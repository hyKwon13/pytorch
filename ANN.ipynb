{
  "nbformat": 4,
  "nbformat_minor": 0,
  "metadata": {
    "colab": {
      "provenance": [],
      "authorship_tag": "ABX9TyOcLbFRRJBjeTklpXwkC5Rc",
      "include_colab_link": true
    },
    "kernelspec": {
      "name": "python3",
      "display_name": "Python 3"
    },
    "language_info": {
      "name": "python"
    }
  },
  "cells": [
    {
      "cell_type": "markdown",
      "metadata": {
        "id": "view-in-github",
        "colab_type": "text"
      },
      "source": [
        "<a href=\"https://colab.research.google.com/github/mandoo2/pytorch/blob/main/ANN.ipynb\" target=\"_parent\"><img src=\"https://colab.research.google.com/assets/colab-badge.svg\" alt=\"Open In Colab\"/></a>"
      ]
    },
    {
      "cell_type": "code",
      "execution_count": null,
      "metadata": {
        "id": "K3Lp_CJ_c-PN"
      },
      "outputs": [],
      "source": [
        "import torch\n",
        "import numpy\n",
        "from sklearn.datasets import make_blobs\n",
        "import matplotlib.pyplot as plt\n"
      ]
    },
    {
      "cell_type": "code",
      "source": [
        "n_dim = 2\n",
        "x_train, y_train = make_blobs(n_samples=80, n_features=n_dim, centers=[[1,1],[-1,-1],[1,-1],[-1,1]],shuffle=True, cluster_std=0.3)\n",
        "x_test, y_test = make_blobs(n_samples=20, n_features=n_dim, centers=[[1,1],[-1,-1],[1,-1],[-1,1]], shuffle=True, cluster_std=0.3)"
      ],
      "metadata": {
        "id": "VRc-nOj_dDmK"
      },
      "execution_count": null,
      "outputs": []
    },
    {
      "cell_type": "code",
      "source": [
        "def label_map(y_,from_,to_):\n",
        "  y = numpy.copy(y_)\n",
        "  for f in from_:\n",
        "    y[y_ == f] = to_\n",
        "  return y\n",
        "\n",
        "y_train = label_map(y_train, [0,1], 0)\n",
        "y_train = label_map(y_train, [2,3], 1)\n",
        "y_test = label_map(y_test, [0,1], 0)\n",
        "y_test = label_map(y_test, [2,3], 1)"
      ],
      "metadata": {
        "id": "fgkgHMxHdSC3"
      },
      "execution_count": null,
      "outputs": []
    },
    {
      "cell_type": "code",
      "source": [
        "def vis_data(x,y = None, c='r'):\n",
        "  if y is None:\n",
        "    y = [None] * len(x)\n",
        "  for x_, y_ in zip(x,y):\n",
        "    if y_ is None:\n",
        "      plt.plot(x_[0],x_[1],'*',markerfacecolor='none',markeredgecolor=c)\n",
        "    else:\n",
        "      plt.plot(x_[0],x_[1],c+'o' if y_ == 0 else c+'+')\n",
        "  \n",
        "plt.figure()\n",
        "vis_data(x_train, y_train, c='r')\n",
        "plt.show()"
      ],
      "metadata": {
        "colab": {
          "base_uri": "https://localhost:8080/",
          "height": 265
        },
        "id": "jQ0ixxVMhYzq",
        "outputId": "70bdf644-a79f-4994-d67f-39f4924ce53e"
      },
      "execution_count": null,
      "outputs": [
        {
          "output_type": "display_data",
          "data": {
            "text/plain": [
              "<Figure size 432x288 with 1 Axes>"
            ],
            "image/png": "[encoded data removed]"
          },
          "metadata": {
            "needs_background": "light"
          }
        }
      ]
    },
    {
      "cell_type": "code",
      "source": [
        "x_train = torch.FloatTensor(x_train)\n",
        "print(x_train.shape)\n",
        "x_test = torch.FloatTensor(x_test)\n",
        "y_train = torch.FloatTensor(y_train)\n",
        "y_test = torch.FloatTensor(y_test)"
      ],
      "metadata": {
        "colab": {
          "base_uri": "https://localhost:8080/"
        },
        "id": "ouk8C7q8iKqx",
        "outputId": "7026e0b9-14a4-42fc-a6d2-56ac14617d3f"
      },
      "execution_count": null,
      "outputs": [
        {
          "output_type": "stream",
          "name": "stdout",
          "text": [
            "torch.Size([80, 2])\n"
          ]
        }
      ]
    },
    {
      "cell_type": "code",
      "source": [
        "class NeuralNet(torch.nn.Module):\n",
        "  def __init__(self, input_size, hidden_size):\n",
        "    super(NeuralNet, self).__init__()\n",
        "    self.input_size = input_size\n",
        "    self.hidden_size = hidden_size\n",
        "    self.linear_1 = torch.nn.Linear(self.input_size, self.hidden_size)\n",
        "    self.relu = torch.nn.ReLU()\n",
        "    self.linear_2 = torch.nn.Linear(self.hidden_size,1)\n",
        "    self.sigmoid = torch.nn.Sigmoid()\n",
        "\n",
        "  def forward(self, input_tensor):\n",
        "    linear1 = self.linear_1(input_tensor)\n",
        "    relu = self.relu(linear1)\n",
        "    linear2 = self.linear_2(relu)\n",
        "    output = self.sigmoid(linear2)\n",
        "    return output"
      ],
      "metadata": {
        "id": "uO9GAl4-iaMT"
      },
      "execution_count": null,
      "outputs": []
    },
    {
      "cell_type": "code",
      "source": [
        "model = NeuralNet(2, 5)\n",
        "learning_rate = 0.03\n",
        "criterion = torch.nn.BCELoss()\n",
        "epochs = 2000\n",
        "optimizer = torch.optim.SGD(model.parameters(), lr=learning_rate)"
      ],
      "metadata": {
        "id": "vSw-CBdVjMS-"
      },
      "execution_count": null,
      "outputs": []
    },
    {
      "cell_type": "code",
      "source": [
        "model.eval()\n",
        "test_loss_before = criterion(model(x_test).squeeze(),y_test)\n",
        "print('Before Traning, test loss is {}'.format(test_loss_before.item()))"
      ],
      "metadata": {
        "colab": {
          "base_uri": "https://localhost:8080/"
        },
        "id": "O40GdNmWjcc_",
        "outputId": "a8bd63d5-ee9d-49a7-9ac0-2920bb57c17f"
      },
      "execution_count": null,
      "outputs": [
        {
          "output_type": "stream",
          "name": "stdout",
          "text": [
            "Before Traning, test loss is 0.7035015225410461\n"
          ]
        }
      ]
    },
    {
      "cell_type": "code",
      "source": [
        "for epoch in range(epochs):\n",
        "  model.train()\n",
        "  optimizer.zero_grad()\n",
        "  train_output = model(x_train)\n",
        "  train_loss = criterion(train_output.squeeze(), y_train)\n",
        "  if epoch % 100 == 0:\n",
        "    print('Train loss as {} is {}'.format(epoch, train_loss.item()))\n",
        "  train_loss.backward()\n",
        "  optimizer.step()"
      ],
      "metadata": {
        "colab": {
          "base_uri": "https://localhost:8080/"
        },
        "id": "e2uNKzAUjqS2",
        "outputId": "850fd2bb-e13d-449d-c24d-c61d1f71cb79"
      },
      "execution_count": null,
      "outputs": [
        {
          "output_type": "stream",
          "name": "stdout",
          "text": [
            "Train loss as 0 is 0.7032691240310669\n",
            "Train loss as 100 is 0.6586687564849854\n",
            "Train loss as 200 is 0.5977128744125366\n",
            "Train loss as 300 is 0.505755603313446\n",
            "Train loss as 400 is 0.39860424399375916\n",
            "Train loss as 500 is 0.292529433965683\n",
            "Train loss as 600 is 0.20894770324230194\n",
            "Train loss as 700 is 0.15409237146377563\n",
            "Train loss as 800 is 0.1178661435842514\n",
            "Train loss as 900 is 0.09414146840572357\n",
            "Train loss as 1000 is 0.07662462443113327\n",
            "Train loss as 1100 is 0.06371147930622101\n",
            "Train loss as 1200 is 0.054126422852277756\n",
            "Train loss as 1300 is 0.04758983850479126\n",
            "Train loss as 1400 is 0.042503658682107925\n",
            "Train loss as 1500 is 0.0384528823196888\n",
            "Train loss as 1600 is 0.03516407310962677\n",
            "Train loss as 1700 is 0.03244931250810623\n",
            "Train loss as 1800 is 0.030175697058439255\n",
            "Train loss as 1900 is 0.028247231617569923\n"
          ]
        }
      ]
    },
    {
      "cell_type": "code",
      "source": [
        "model.eval()\n",
        "test_loss = criterion(torch.squeeze(model(x_test)), y_test)\n",
        "print('After Training, test loss is {}'.format(test_loss.item()))"
      ],
      "metadata": {
        "colab": {
          "base_uri": "https://localhost:8080/"
        },
        "id": "h0Zum5S-kON4",
        "outputId": "c2003101-13c0-429a-b236-ca66602fb780"
      },
      "execution_count": null,
      "outputs": [
        {
          "output_type": "stream",
          "name": "stdout",
          "text": [
            "After Training, test loss is 0.02831139601767063\n"
          ]
        }
      ]
    },
    {
      "cell_type": "code",
      "source": [
        "torch.save(model.state_dict(),'./model.pt')\n",
        "print('state_dict format of the model: {}'.format(model.state_dict()))"
      ],
      "metadata": {
        "colab": {
          "base_uri": "https://localhost:8080/"
        },
        "id": "8QFm85TMkg_N",
        "outputId": "a8c7a1a6-9279-4491-a4dc-149f733c02ae"
      },
      "execution_count": null,
      "outputs": [
        {
          "output_type": "stream",
          "name": "stdout",
          "text": [
            "state_dict format of the model: OrderedDict([('linear_1.weight', tensor([[-1.6307, -1.2457],\n",
            "        [ 1.6580,  1.6420],\n",
            "        [ 0.3973,  0.1193],\n",
            "        [-1.4411,  1.6246],\n",
            "        [ 1.3974, -1.0520]])), ('linear_1.bias', tensor([-0.0641, -0.1853, -0.6515, -0.1108,  0.6036])), ('linear_2.weight', tensor([[-1.9001, -2.1933,  0.1807,  2.1207,  1.6301]])), ('linear_2.bias', tensor([0.0526]))])\n"
          ]
        }
      ]
    },
    {
      "cell_type": "code",
      "source": [
        "new_model = NeuralNet(2,5)\n",
        "new_model.load_state_dict(torch.load('./model.pt'))\n",
        "new_model.eval()\n",
        "print('벡터 [-1,1]이 레이블 1을 가질 확률은 {}'.format(new_model(torch.FloatTensor([-1,1])).item()))"
      ],
      "metadata": {
        "colab": {
          "base_uri": "https://localhost:8080/"
        },
        "id": "I2MiyyF9kth-",
        "outputId": "3743cd4c-dc69-4d5d-d649-d76fb12997ca"
      },
      "execution_count": null,
      "outputs": [
        {
          "output_type": "stream",
          "name": "stdout",
          "text": [
            "벡터 [-1,1]이 레이블 1을 가질 확률은 0.9966951608657837\n"
          ]
        }
      ]
    },
    {
      "cell_type": "code",
      "source": [],
      "metadata": {
        "id": "Zz5G5tislQ0J"
      },
      "execution_count": null,
      "outputs": []
    }
  ]
}